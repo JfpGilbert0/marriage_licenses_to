{
  "cells": [
    {
      "cell_type": "raw",
      "metadata": {},
      "source": [
        "---\n",
        "title: \"Marriage Licenses\"\n",
        "subtitle: \"people love summer weddings\"\n",
        "author: \n",
        "  - Jacob Gilbert\n",
        "thanks: \"Code and data are available at: .\"\n",
        "date: today\n",
        "date-format: long\n",
        "abstract: \"When do the licencses for marriages occur, can we associate it with something other than alcohol consumption.\"\n",
        "format: pdf\n",
        "number-sections: true\n",
        "---"
      ],
      "id": "0c859106"
    },
    {
      "cell_type": "code",
      "metadata": {
        "message": false
      },
      "source": [
        "#| include: false\n",
        "#| warning: false\n",
        "import pandas as pd\n",
        "import matplotlib.pyplot as plt\n",
        "import seaborn as sns\n",
        "\n",
        "# Sample DataFrame\n",
        "data = pd.read_csv(\"data/analysis_data/cleaned_marriage_data.csv\")\n",
        "\n",
        "df = pd.DataFrame(data)\n",
        "\n",
        "# Plotting the average marriage licenses by month\n",
        "plt.figure(figsize=(10, 6))\n",
        "sns.lineplot(data=data, x='TIME_PERIOD', y='MARRIAGE_LICENSES', marker='o')\n",
        "plt.title('Average Marriage Licenses by Month')\n",
        "plt.xlabel('Month-Year')\n",
        "plt.ylabel('Average Number of Licenses')\n",
        "plt.grid(True)\n",
        "plt.xticks(rotation=45)\n",
        "plt.tight_layout()\n",
        "\n",
        "# Display the plot\n",
        "plt.show()"
      ],
      "id": "99b8d316",
      "execution_count": null,
      "outputs": []
    },
    {
      "cell_type": "markdown",
      "metadata": {},
      "source": [
        "# Introduction\n",
        "\n",
        "You can and should cross-reference sections and sub-sections. We use @citeR and @rohan.\n",
        "\n",
        "The remainder of this paper is structured as follows. @sec-data....\n",
        "\n",
        "\n",
        "\n",
        "# Data {#sec-data}\n"
      ],
      "id": "ed8f25b9"
    }
  ],
  "metadata": {
    "kernelspec": {
      "name": "python3",
      "language": "python",
      "display_name": "Python 3 (ipykernel)"
    }
  },
  "nbformat": 4,
  "nbformat_minor": 5
}